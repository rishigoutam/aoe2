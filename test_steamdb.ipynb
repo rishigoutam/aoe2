{
 "cells": [
  {
   "cell_type": "code",
   "execution_count": 26,
   "metadata": {
    "collapsed": true
   },
   "outputs": [],
   "source": [
    "import pandas as pd\n",
    "import numpy as np\n",
    "# Get player counts over time for DE and HD\n",
    "steam_de = pd.read_csv('inputs/chart-de.csv', usecols=['DateTime', 'Players'])\n",
    "steam_hd = pd.read_csv('inputs/chart-hd.csv', usecols=['DateTime', 'Players'])\n"
   ]
  },
  {
   "cell_type": "code",
   "execution_count": 27,
   "outputs": [
    {
     "name": "stdout",
     "output_type": "stream",
     "text": [
      "<class 'pandas.core.frame.DataFrame'>\n",
      "RangeIndex: 802 entries, 0 to 801\n",
      "Data columns (total 2 columns):\n",
      " #   Column    Non-Null Count  Dtype \n",
      "---  ------    --------------  ----- \n",
      " 0   DateTime  802 non-null    object\n",
      " 1   Players   802 non-null    int64 \n",
      "dtypes: int64(1), object(1)\n",
      "memory usage: 12.7+ KB\n"
     ]
    },
    {
     "data": {
      "text/plain": "None"
     },
     "metadata": {},
     "output_type": "display_data"
    },
    {
     "data": {
      "text/plain": "              DateTime  Players\n0  2019-11-14 00:00:00    21797\n1  2019-11-15 00:00:00    20594\n2  2019-11-16 00:00:00    26163\n3  2019-11-17 00:00:00    26767\n4  2019-11-18 00:00:00    19596",
      "text/html": "<div>\n<style scoped>\n    .dataframe tbody tr th:only-of-type {\n        vertical-align: middle;\n    }\n\n    .dataframe tbody tr th {\n        vertical-align: top;\n    }\n\n    .dataframe thead th {\n        text-align: right;\n    }\n</style>\n<table border=\"1\" class=\"dataframe\">\n  <thead>\n    <tr style=\"text-align: right;\">\n      <th></th>\n      <th>DateTime</th>\n      <th>Players</th>\n    </tr>\n  </thead>\n  <tbody>\n    <tr>\n      <th>0</th>\n      <td>2019-11-14 00:00:00</td>\n      <td>21797</td>\n    </tr>\n    <tr>\n      <th>1</th>\n      <td>2019-11-15 00:00:00</td>\n      <td>20594</td>\n    </tr>\n    <tr>\n      <th>2</th>\n      <td>2019-11-16 00:00:00</td>\n      <td>26163</td>\n    </tr>\n    <tr>\n      <th>3</th>\n      <td>2019-11-17 00:00:00</td>\n      <td>26767</td>\n    </tr>\n    <tr>\n      <th>4</th>\n      <td>2019-11-18 00:00:00</td>\n      <td>19596</td>\n    </tr>\n  </tbody>\n</table>\n</div>"
     },
     "execution_count": 27,
     "metadata": {},
     "output_type": "execute_result"
    }
   ],
   "source": [
    "display(steam_de.info())\n",
    "steam_de.set_index('DateTime')\n",
    "steam_de.head()"
   ],
   "metadata": {
    "collapsed": false,
    "pycharm": {
     "name": "#%%\n"
    }
   }
  },
  {
   "cell_type": "code",
   "execution_count": 28,
   "outputs": [
    {
     "name": "stdout",
     "output_type": "stream",
     "text": [
      "<class 'pandas.core.frame.DataFrame'>\n",
      "RangeIndex: 3220 entries, 0 to 3219\n",
      "Data columns (total 2 columns):\n",
      " #   Column    Non-Null Count  Dtype  \n",
      "---  ------    --------------  -----  \n",
      " 0   DateTime  3220 non-null   object \n",
      " 1   Players   3166 non-null   float64\n",
      "dtypes: float64(1), object(1)\n",
      "memory usage: 50.4+ KB\n"
     ]
    },
    {
     "data": {
      "text/plain": "None"
     },
     "metadata": {},
     "output_type": "display_data"
    },
    {
     "name": "stdout",
     "output_type": "stream",
     "text": [
      "<class 'pandas.core.frame.DataFrame'>\n",
      "RangeIndex: 3220 entries, 0 to 3219\n",
      "Data columns (total 2 columns):\n",
      " #   Column    Non-Null Count  Dtype \n",
      "---  ------    --------------  ----- \n",
      " 0   DateTime  3220 non-null   object\n",
      " 1   Players   3220 non-null   int64 \n",
      "dtypes: int64(1), object(1)\n",
      "memory usage: 50.4+ KB\n"
     ]
    },
    {
     "data": {
      "text/plain": "None"
     },
     "metadata": {},
     "output_type": "display_data"
    },
    {
     "data": {
      "text/plain": "              DateTime  Players\n0  2013-04-01 00:00:00    11761\n1  2013-04-02 00:00:00    11830\n2  2013-04-03 00:00:00    11900\n3  2013-04-04 00:00:00    11969\n4  2013-04-05 00:00:00    10988",
      "text/html": "<div>\n<style scoped>\n    .dataframe tbody tr th:only-of-type {\n        vertical-align: middle;\n    }\n\n    .dataframe tbody tr th {\n        vertical-align: top;\n    }\n\n    .dataframe thead th {\n        text-align: right;\n    }\n</style>\n<table border=\"1\" class=\"dataframe\">\n  <thead>\n    <tr style=\"text-align: right;\">\n      <th></th>\n      <th>DateTime</th>\n      <th>Players</th>\n    </tr>\n  </thead>\n  <tbody>\n    <tr>\n      <th>0</th>\n      <td>2013-04-01 00:00:00</td>\n      <td>11761</td>\n    </tr>\n    <tr>\n      <th>1</th>\n      <td>2013-04-02 00:00:00</td>\n      <td>11830</td>\n    </tr>\n    <tr>\n      <th>2</th>\n      <td>2013-04-03 00:00:00</td>\n      <td>11900</td>\n    </tr>\n    <tr>\n      <th>3</th>\n      <td>2013-04-04 00:00:00</td>\n      <td>11969</td>\n    </tr>\n    <tr>\n      <th>4</th>\n      <td>2013-04-05 00:00:00</td>\n      <td>10988</td>\n    </tr>\n  </tbody>\n</table>\n</div>"
     },
     "execution_count": 28,
     "metadata": {},
     "output_type": "execute_result"
    }
   ],
   "source": [
    "display(steam_hd.info())\n",
    "# Clean up the HD data:\n",
    "# We have 3220 Dates but only 3166 Player values so some null values exist.\n",
    "# We can impute data by interpolating player counts. Then round down fractional players and cast back to int\n",
    "steam_hd.set_index('DateTime')\n",
    "steam_hd.interpolate(method='linear', inplace=True)\n",
    "steam_hd['Players'] = steam_hd['Players'].round()\n",
    "steam_hd = steam_hd.astype({'Players': int})\n",
    "display(steam_hd.info())\n",
    "steam_hd.head()\n"
   ],
   "metadata": {
    "collapsed": false,
    "pycharm": {
     "name": "#%%\n"
    }
   }
  },
  {
   "cell_type": "markdown",
   "source": [
    "# What info do we have?\n",
    "- number of players per day since release of age of empires ii: definitive edition\n",
    "- limited to steam players\n",
    "\n",
    "# What could we do with this?\n",
    "- compare against other games in the age series if we get the charts for those. this could help us understand the popularity of age\n",
    "- compare against other top games or other RTS games (e.g., starcraft? but that's not on steam)"
   ],
   "metadata": {
    "collapsed": false,
    "pycharm": {
     "name": "#%% md\n"
    }
   }
  },
  {
   "cell_type": "code",
   "execution_count": null,
   "outputs": [],
   "source": [],
   "metadata": {
    "collapsed": false,
    "pycharm": {
     "name": "#%%\n"
    }
   }
  }
 ],
 "metadata": {
  "kernelspec": {
   "display_name": "Python 3",
   "language": "python",
   "name": "python3"
  },
  "language_info": {
   "codemirror_mode": {
    "name": "ipython",
    "version": 2
   },
   "file_extension": ".py",
   "mimetype": "text/x-python",
   "name": "python",
   "nbconvert_exporter": "python",
   "pygments_lexer": "ipython2",
   "version": "2.7.6"
  }
 },
 "nbformat": 4,
 "nbformat_minor": 0
}