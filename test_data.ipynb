{
 "cells": [
  {
   "cell_type": "code",
   "execution_count": 2,
   "metadata": {
    "collapsed": true
   },
   "outputs": [],
   "source": [
    "import pandas as pd\n",
    "\n",
    "matches = pd.read_csv('./data/matches.csv')\n",
    "players = pd.read_csv('./data/match_players.csv')\n"
   ]
  },
  {
   "cell_type": "code",
   "execution_count": 3,
   "outputs": [
    {
     "name": "stdout",
     "output_type": "stream",
     "text": [
      "<class 'pandas.core.frame.DataFrame'>\n",
      "RangeIndex: 1331699 entries, 0 to 1331698\n",
      "Data columns (total 11 columns):\n",
      " #   Column          Non-Null Count    Dtype  \n",
      "---  ------          --------------    -----  \n",
      " 0   token           1331699 non-null  object \n",
      " 1   winning_team    1331699 non-null  int64  \n",
      " 2   mirror          1331699 non-null  bool   \n",
      " 3   ladder          1331699 non-null  object \n",
      " 4   patch           1331699 non-null  int64  \n",
      " 5   average_rating  1287122 non-null  float64\n",
      " 6   map             1331699 non-null  object \n",
      " 7   map_size        1331699 non-null  object \n",
      " 8   num_players     1331699 non-null  int64  \n",
      " 9   server          1331699 non-null  object \n",
      " 10  duration        1331699 non-null  object \n",
      "dtypes: bool(1), float64(1), int64(3), object(6)\n",
      "memory usage: 102.9+ MB\n"
     ]
    },
    {
     "data": {
      "text/plain": "None"
     },
     "metadata": {},
     "output_type": "display_data"
    },
    {
     "data": {
      "text/plain": "              token  winning_team  mirror   ladder  patch  average_rating  \\\n0  HEVMmsI8GDCKKR2W             2   False   RM_1v1  35584          1180.0   \n1  8a93d8306c758c0e             2   False   RM_1v1  36906          1671.0   \n2  1M1GiBrNTyfDdYpp             1   False  RM_TEAM  35584          1144.0   \n3  WqaPjpZ5YJsoF48B             1   False   RM_1v1  35584           943.0   \n4  sOZrU57m89qr0159             1   False   RM_1v1  35584          1046.0   \n\n             map map_size  num_players       server duration  \n0        hideout     tiny            2       ukwest  0:06:30  \n1          nomad     tiny            2      westus2  0:03:39  \n2     golden_pit   medium            4  brazilsouth  0:51:20  \n3     golden_pit     tiny            2       eastus  0:37:14  \n4  mediterranean     tiny            2       ukwest  0:36:49  ",
      "text/html": "<div>\n<style scoped>\n    .dataframe tbody tr th:only-of-type {\n        vertical-align: middle;\n    }\n\n    .dataframe tbody tr th {\n        vertical-align: top;\n    }\n\n    .dataframe thead th {\n        text-align: right;\n    }\n</style>\n<table border=\"1\" class=\"dataframe\">\n  <thead>\n    <tr style=\"text-align: right;\">\n      <th></th>\n      <th>token</th>\n      <th>winning_team</th>\n      <th>mirror</th>\n      <th>ladder</th>\n      <th>patch</th>\n      <th>average_rating</th>\n      <th>map</th>\n      <th>map_size</th>\n      <th>num_players</th>\n      <th>server</th>\n      <th>duration</th>\n    </tr>\n  </thead>\n  <tbody>\n    <tr>\n      <th>0</th>\n      <td>HEVMmsI8GDCKKR2W</td>\n      <td>2</td>\n      <td>False</td>\n      <td>RM_1v1</td>\n      <td>35584</td>\n      <td>1180.0</td>\n      <td>hideout</td>\n      <td>tiny</td>\n      <td>2</td>\n      <td>ukwest</td>\n      <td>0:06:30</td>\n    </tr>\n    <tr>\n      <th>1</th>\n      <td>8a93d8306c758c0e</td>\n      <td>2</td>\n      <td>False</td>\n      <td>RM_1v1</td>\n      <td>36906</td>\n      <td>1671.0</td>\n      <td>nomad</td>\n      <td>tiny</td>\n      <td>2</td>\n      <td>westus2</td>\n      <td>0:03:39</td>\n    </tr>\n    <tr>\n      <th>2</th>\n      <td>1M1GiBrNTyfDdYpp</td>\n      <td>1</td>\n      <td>False</td>\n      <td>RM_TEAM</td>\n      <td>35584</td>\n      <td>1144.0</td>\n      <td>golden_pit</td>\n      <td>medium</td>\n      <td>4</td>\n      <td>brazilsouth</td>\n      <td>0:51:20</td>\n    </tr>\n    <tr>\n      <th>3</th>\n      <td>WqaPjpZ5YJsoF48B</td>\n      <td>1</td>\n      <td>False</td>\n      <td>RM_1v1</td>\n      <td>35584</td>\n      <td>943.0</td>\n      <td>golden_pit</td>\n      <td>tiny</td>\n      <td>2</td>\n      <td>eastus</td>\n      <td>0:37:14</td>\n    </tr>\n    <tr>\n      <th>4</th>\n      <td>sOZrU57m89qr0159</td>\n      <td>1</td>\n      <td>False</td>\n      <td>RM_1v1</td>\n      <td>35584</td>\n      <td>1046.0</td>\n      <td>mediterranean</td>\n      <td>tiny</td>\n      <td>2</td>\n      <td>ukwest</td>\n      <td>0:36:49</td>\n    </tr>\n  </tbody>\n</table>\n</div>"
     },
     "execution_count": 3,
     "metadata": {},
     "output_type": "execute_result"
    }
   ],
   "source": [
    "# look at matches\n",
    "display(matches.info())\n",
    "matches.head()"
   ],
   "metadata": {
    "collapsed": false,
    "pycharm": {
     "name": "#%%\n"
    }
   }
  },
  {
   "cell_type": "markdown",
   "source": [
    "# What can we ask about matches?\n",
    "- most popular maps\n",
    "-- likely arabia (open) and arena (closed)\n",
    "- most popular game type (ladder)\n",
    "- what civs win most?\n",
    "-- civ win rate vs other civs\n",
    "-- civ win rate in map (arabia vs arena)\n",
    "- what type of civ is better (infantry, cavalry, archer)\n",
    "-- need to label civs by type manually\n",
    "- in mirror matches, does the higher rated player win more often ? (probably). but we don't seem to have player rating here, just average rating\n",
    "- where do people play most? (not really true as match server might not be where players are located)\n",
    "\n",
    "# How do we subdivide data?\n",
    "- by game version (patch)\n",
    "- by game type (ladder)\n",
    "- by player avg rating buckets\n",
    "- by 1v1 games vs team games vs others (free for all)\n",
    "- by region (server)\n",
    "- by map type (closed maps vs open maps) - will have to manually label the maps as open/closed\n",
    "- by patch\n",
    "\n",
    "# What data might need to be cleaned?\n",
    "- short duration games (someone quit) and long duration games (someone was afk)\n",
    "- check null values"
   ],
   "metadata": {
    "collapsed": false,
    "pycharm": {
     "name": "#%% md\n"
    }
   }
  },
  {
   "cell_type": "code",
   "execution_count": 4,
   "outputs": [
    {
     "name": "stdout",
     "output_type": "stream",
     "text": [
      "<class 'pandas.core.frame.DataFrame'>\n",
      "RangeIndex: 4075552 entries, 0 to 4075551\n",
      "Data columns (total 7 columns):\n",
      " #   Column  Dtype  \n",
      "---  ------  -----  \n",
      " 0   token   object \n",
      " 1   match   object \n",
      " 2   rating  float64\n",
      " 3   color   object \n",
      " 4   civ     object \n",
      " 5   team    int64  \n",
      " 6   winner  bool   \n",
      "dtypes: bool(1), float64(1), int64(1), object(4)\n",
      "memory usage: 190.5+ MB\n"
     ]
    },
    {
     "data": {
      "text/plain": "None"
     },
     "metadata": {},
     "output_type": "display_data"
    },
    {
     "data": {
      "text/plain": "              token             match  rating   color          civ  team  \\\n0  V2X8UjSoLUliuaqg  e2ef0bbea3378df2  1295.0  Purple        Goths     1   \n1  pafasA6Xv704IbMw  4a7b1a48021eb7b5  1549.0    Blue      Berbers     2   \n2  anI0CXCPML0E8UNB  c0582c309489f1de     NaN    Cyan  Lithuanians     2   \n3  BZW0KSg7oZ4Nmoa6  d1f34eed030ca372  1183.0     Red       Mayans     1   \n4  QAX39y010pa9q2Q6  346f298b1ced01fb  1326.0    Blue      Koreans     2   \n\n   winner  \n0   False  \n1   False  \n2   False  \n3   False  \n4    True  ",
      "text/html": "<div>\n<style scoped>\n    .dataframe tbody tr th:only-of-type {\n        vertical-align: middle;\n    }\n\n    .dataframe tbody tr th {\n        vertical-align: top;\n    }\n\n    .dataframe thead th {\n        text-align: right;\n    }\n</style>\n<table border=\"1\" class=\"dataframe\">\n  <thead>\n    <tr style=\"text-align: right;\">\n      <th></th>\n      <th>token</th>\n      <th>match</th>\n      <th>rating</th>\n      <th>color</th>\n      <th>civ</th>\n      <th>team</th>\n      <th>winner</th>\n    </tr>\n  </thead>\n  <tbody>\n    <tr>\n      <th>0</th>\n      <td>V2X8UjSoLUliuaqg</td>\n      <td>e2ef0bbea3378df2</td>\n      <td>1295.0</td>\n      <td>Purple</td>\n      <td>Goths</td>\n      <td>1</td>\n      <td>False</td>\n    </tr>\n    <tr>\n      <th>1</th>\n      <td>pafasA6Xv704IbMw</td>\n      <td>4a7b1a48021eb7b5</td>\n      <td>1549.0</td>\n      <td>Blue</td>\n      <td>Berbers</td>\n      <td>2</td>\n      <td>False</td>\n    </tr>\n    <tr>\n      <th>2</th>\n      <td>anI0CXCPML0E8UNB</td>\n      <td>c0582c309489f1de</td>\n      <td>NaN</td>\n      <td>Cyan</td>\n      <td>Lithuanians</td>\n      <td>2</td>\n      <td>False</td>\n    </tr>\n    <tr>\n      <th>3</th>\n      <td>BZW0KSg7oZ4Nmoa6</td>\n      <td>d1f34eed030ca372</td>\n      <td>1183.0</td>\n      <td>Red</td>\n      <td>Mayans</td>\n      <td>1</td>\n      <td>False</td>\n    </tr>\n    <tr>\n      <th>4</th>\n      <td>QAX39y010pa9q2Q6</td>\n      <td>346f298b1ced01fb</td>\n      <td>1326.0</td>\n      <td>Blue</td>\n      <td>Koreans</td>\n      <td>2</td>\n      <td>True</td>\n    </tr>\n  </tbody>\n</table>\n</div>"
     },
     "execution_count": 4,
     "metadata": {},
     "output_type": "execute_result"
    }
   ],
   "source": [
    "# look at matches\n",
    "display(players.info())\n",
    "players.head()"
   ],
   "metadata": {
    "collapsed": false,
    "pycharm": {
     "name": "#%%\n"
    }
   }
  },
  {
   "cell_type": "markdown",
   "source": [
    "# What can we ask about players?\n",
    "- not name, because data is anonymized\n",
    "- by token, we can see who won most, but that's useless perhaps\n",
    "- we could see average number of games by binned ratings\n",
    "- what color/civ picked most often (red/blue are defaults)\n",
    "\n",
    "# How do we join with matches?\n",
    "- We can use the match id and do a join on that dataframe\n",
    "\n",
    "# What do we look at once we have players and the matches they played?\n",
    "- Now we can actually look at which civs are best (highest win rate)\n",
    "\n",
    "\n"
   ],
   "metadata": {
    "collapsed": false,
    "pycharm": {
     "name": "#%% md\n"
    }
   }
  },
  {
   "cell_type": "code",
   "execution_count": 5,
   "outputs": [],
   "source": [
    "# What are player color preferences?\n",
    "colors_df = players[~players['color'].isnull()]\n",
    "# display(colors_df)\n",
    "# display(len(colors_df))\n",
    "color_counts = colors_df.groupby('color')['token'].count().reset_index()\n",
    "color_percent = pd.DataFrame()\n",
    "color_percent['color'] = color_counts['color']\n",
    "color_percent['percent'] = color_counts['token']/len(colors_df)\n",
    "color_percent.sort_values(by='percent', ascending=False, inplace=True)\n",
    "\n",
    "import matplotlib.pyplot as plt\n"
   ],
   "metadata": {
    "collapsed": false,
    "pycharm": {
     "name": "#%%\n"
    }
   }
  },
  {
   "cell_type": "code",
   "execution_count": 6,
   "outputs": [
    {
     "data": {
      "text/plain": "<Figure size 432x288 with 1 Axes>",
      "image/png": "[encoded data removed]"
     },
     "metadata": {
      "needs_background": "light"
     },
     "output_type": "display_data"
    }
   ],
   "source": [
    "plt.bar(x=color_percent.color, height=color_percent.percent*100, color=color_percent.color)\n",
    "plt.xlabel('Color')\n",
    "plt.ylabel('Selection Percent')\n",
    "plt.title('Player Color Selection Preferences')\n",
    "plt.show()"
   ],
   "metadata": {
    "collapsed": false,
    "pycharm": {
     "name": "#%%\n"
    }
   }
  },
  {
   "cell_type": "code",
   "execution_count": 7,
   "outputs": [
    {
     "data": {
      "text/plain": "<Figure size 432x288 with 1 Axes>",
      "image/png": "[encoded data removed]"
     },
     "metadata": {},
     "output_type": "display_data"
    }
   ],
   "source": [
    "plt.pie(x=color_percent.percent, labels=color_percent.color, colors=color_percent.color)\n",
    "plt.title('Player Color Selection Preferences')\n",
    "plt.xlabel('Color')\n",
    "plt.ylabel('Selection Percent')\n",
    "plt.show()"
   ],
   "metadata": {
    "collapsed": false,
    "pycharm": {
     "name": "#%%\n"
    }
   }
  },
  {
   "cell_type": "code",
   "execution_count": 24,
   "outputs": [],
   "source": [
    "most_recent_patch = max(matches.patch.unique()) # filter by this for now"
   ],
   "metadata": {
    "collapsed": false,
    "pycharm": {
     "name": "#%%\n"
    }
   }
  },
  {
   "cell_type": "code",
   "execution_count": 13,
   "outputs": [
    {
     "data": {
      "text/plain": "       player_token       match_token  rating      civ  team  winner\n0  V2X8UjSoLUliuaqg  e2ef0bbea3378df2  1295.0    Goths     1   False\n1  pafasA6Xv704IbMw  4a7b1a48021eb7b5  1549.0  Berbers     2   False\n3  BZW0KSg7oZ4Nmoa6  d1f34eed030ca372  1183.0   Mayans     1   False\n4  QAX39y010pa9q2Q6  346f298b1ced01fb  1326.0  Koreans     2    True\n5  tujH7TExWtRbCFuD  b73a236bd12d6aa8  1229.0    Khmer     2    True",
      "text/html": "<div>\n<style scoped>\n    .dataframe tbody tr th:only-of-type {\n        vertical-align: middle;\n    }\n\n    .dataframe tbody tr th {\n        vertical-align: top;\n    }\n\n    .dataframe thead th {\n        text-align: right;\n    }\n</style>\n<table border=\"1\" class=\"dataframe\">\n  <thead>\n    <tr style=\"text-align: right;\">\n      <th></th>\n      <th>player_token</th>\n      <th>match_token</th>\n      <th>rating</th>\n      <th>civ</th>\n      <th>team</th>\n      <th>winner</th>\n    </tr>\n  </thead>\n  <tbody>\n    <tr>\n      <th>0</th>\n      <td>V2X8UjSoLUliuaqg</td>\n      <td>e2ef0bbea3378df2</td>\n      <td>1295.0</td>\n      <td>Goths</td>\n      <td>1</td>\n      <td>False</td>\n    </tr>\n    <tr>\n      <th>1</th>\n      <td>pafasA6Xv704IbMw</td>\n      <td>4a7b1a48021eb7b5</td>\n      <td>1549.0</td>\n      <td>Berbers</td>\n      <td>2</td>\n      <td>False</td>\n    </tr>\n    <tr>\n      <th>3</th>\n      <td>BZW0KSg7oZ4Nmoa6</td>\n      <td>d1f34eed030ca372</td>\n      <td>1183.0</td>\n      <td>Mayans</td>\n      <td>1</td>\n      <td>False</td>\n    </tr>\n    <tr>\n      <th>4</th>\n      <td>QAX39y010pa9q2Q6</td>\n      <td>346f298b1ced01fb</td>\n      <td>1326.0</td>\n      <td>Koreans</td>\n      <td>2</td>\n      <td>True</td>\n    </tr>\n    <tr>\n      <th>5</th>\n      <td>tujH7TExWtRbCFuD</td>\n      <td>b73a236bd12d6aa8</td>\n      <td>1229.0</td>\n      <td>Khmer</td>\n      <td>2</td>\n      <td>True</td>\n    </tr>\n  </tbody>\n</table>\n</div>"
     },
     "execution_count": 13,
     "metadata": {},
     "output_type": "execute_result"
    }
   ],
   "source": [
    "# Okay colors are pretty, but we need to look at win rates to determine if this game is balanced as per our hypothesis\n",
    "# matches.info()\n",
    "# we see nulls for average_rating column. perhaps this is for players new to the game who have no rating (i.e., this is their first game).\n",
    "# matches_copy = matches_copy.dropna(subset=['average_rating']) # don't need this if we just drop that column\n",
    "# we have 1331699 non null for everything else, 1287122 for average_rating\n",
    "# this will be our cleaned up matches. also we won't have to start from beginning and read csv if we mess up something\n",
    "# we can also throw away useless columns\n",
    "# print(matches.columns)\n",
    "matches_copy = matches[['token', 'winning_team', 'ladder', 'patch', 'num_players', 'duration']].copy()\n",
    "players_copy = players[['token', 'match', 'rating', 'civ', 'team', 'winner']].copy()\n",
    "\n"
   ],
   "metadata": {
    "collapsed": false,
    "pycharm": {
     "name": "#%%\n"
    }
   }
  },
  {
   "cell_type": "code",
   "execution_count": null,
   "outputs": [],
   "source": [
    "# rename columns\n",
    "matches_copy = matches_copy.rename(columns={'token': 'match_token'})\n",
    "players_copy = players_copy.rename(columns={'token': 'player_token', 'match': 'match_token'})\n",
    "players_copy = players_copy.dropna(subset=['rating'])"
   ],
   "metadata": {
    "collapsed": false,
    "pycharm": {
     "name": "#%%\n"
    }
   }
  },
  {
   "cell_type": "code",
   "execution_count": 16,
   "outputs": [],
   "source": [
    "# join the datasets\n",
    "mp_df = pd.merge(matches_copy, players_copy, on='match_token')"
   ],
   "metadata": {
    "collapsed": false,
    "pycharm": {
     "name": "#%%\n"
    }
   }
  },
  {
   "cell_type": "code",
   "execution_count": null,
   "outputs": [],
   "source": [
    "# TODO need to use a datetime object to do this. look at it later\n",
    "# we can also drop matches where someone ragequit (left quickly)\n",
    "# matches_copy['duration'] = matches_copy['duration'].apply(lambda duration: int(duration.replace(':', '')))\n",
    "# lowest values\n",
    "# matches_copy[['duration']].sort_values(by='duration')\n",
    "# highest values\n",
    "# matches_copy[['duration']].sort_values(by='duration', ascending=False)"
   ],
   "metadata": {
    "collapsed": false,
    "pycharm": {
     "name": "#%%\n"
    }
   }
  },
  {
   "cell_type": "code",
   "execution_count": 25,
   "outputs": [],
   "source": [
    "# we only want to look at 1v1s for now to determine balance\n",
    "mp_df = mp_df[mp_df.ladder == 'RM_1v1']\n",
    "# we only want to look at the latest patch for now. maybe later we can look at balance across patches or how patches affect balance?\n",
    "mp_df = mp_df[mp_df.patch == most_recent_patch]\n"
   ],
   "metadata": {
    "collapsed": false,
    "pycharm": {
     "name": "#%%\n"
    }
   }
  },
  {
   "cell_type": "code",
   "execution_count": 70,
   "outputs": [],
   "source": [
    "# look at win rates\n",
    "win_rates = mp_df.groupby('civ')[['winner']].mean().reset_index().rename(columns={'winner': 'win_rate'}).sort_values(by='win_rate', ascending=False)\n"
   ],
   "metadata": {
    "collapsed": false,
    "pycharm": {
     "name": "#%%\n"
    }
   }
  },
  {
   "cell_type": "code",
   "execution_count": 75,
   "outputs": [
    {
     "data": {
      "text/plain": "<Figure size 432x288 with 1 Axes>",
      "image/png": "[encoded data removed]"
     },
     "metadata": {
      "needs_background": "light"
     },
     "output_type": "display_data"
    }
   ],
   "source": [
    "# plot win rates\n",
    "plt.bar(win_rates.civ, win_rates.win_rate)\n",
    "# TODO format y label as percent\n",
    "plt.ylim(.4,.6)\n",
    "plt.xticks(rotation=90)\n",
    "plt.title('1v1 Ranked Matches Win Rates')\n",
    "plt.xlabel('Civilization')\n",
    "plt.ylabel('Win Rate (%)')\n",
    "\n",
    "# draw a line at 50% to show how close to a coin flip this is\n",
    "plt.axhline(0.5, color='black', linestyle=':')\n",
    "\n",
    "plt.show()"
   ],
   "metadata": {
    "collapsed": false,
    "pycharm": {
     "name": "#%%\n"
    }
   }
  },
  {
   "cell_type": "code",
   "execution_count": 72,
   "outputs": [
    {
     "data": {
      "text/plain": "      win_rate\nmean  0.499473\nstd   0.021016",
      "text/html": "<div>\n<style scoped>\n    .dataframe tbody tr th:only-of-type {\n        vertical-align: middle;\n    }\n\n    .dataframe tbody tr th {\n        vertical-align: top;\n    }\n\n    .dataframe thead th {\n        text-align: right;\n    }\n</style>\n<table border=\"1\" class=\"dataframe\">\n  <thead>\n    <tr style=\"text-align: right;\">\n      <th></th>\n      <th>win_rate</th>\n    </tr>\n  </thead>\n  <tbody>\n    <tr>\n      <th>mean</th>\n      <td>0.499473</td>\n    </tr>\n    <tr>\n      <th>std</th>\n      <td>0.021016</td>\n    </tr>\n  </tbody>\n</table>\n</div>"
     },
     "execution_count": 72,
     "metadata": {},
     "output_type": "execute_result"
    }
   ],
   "source": [
    "# win rate stats\n",
    "win_rates.agg(['mean', 'std'])"
   ],
   "metadata": {
    "collapsed": false,
    "pycharm": {
     "name": "#%%\n"
    }
   }
  },
  {
   "cell_type": "code",
   "execution_count": null,
   "outputs": [],
   "source": [],
   "metadata": {
    "collapsed": false,
    "pycharm": {
     "name": "#%%\n"
    }
   }
  }
 ],
 "metadata": {
  "kernelspec": {
   "display_name": "Python 3",
   "language": "python",
   "name": "python3"
  },
  "language_info": {
   "codemirror_mode": {
    "name": "ipython",
    "version": 2
   },
   "file_extension": ".py",
   "mimetype": "text/x-python",
   "name": "python",
   "nbconvert_exporter": "python",
   "pygments_lexer": "ipython2",
   "version": "2.7.6"
  }
 },
 "nbformat": 4,
 "nbformat_minor": 0
}