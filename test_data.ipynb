{
 "cells": [
  {
   "cell_type": "code",
   "execution_count": 8,
   "metadata": {
    "collapsed": true
   },
   "outputs": [],
   "source": [
    "import pandas as pd\n",
    "matches = pd.read_csv('./data/matches.csv')\n",
    "players = pd.read_csv('./data/match_players.csv')"
   ]
  },
  {
   "cell_type": "code",
   "execution_count": 9,
   "outputs": [
    {
     "name": "stdout",
     "output_type": "stream",
     "text": [
      "<class 'pandas.core.frame.DataFrame'>\n",
      "RangeIndex: 1331699 entries, 0 to 1331698\n",
      "Data columns (total 11 columns):\n",
      " #   Column          Non-Null Count    Dtype  \n",
      "---  ------          --------------    -----  \n",
      " 0   token           1331699 non-null  object \n",
      " 1   winning_team    1331699 non-null  int64  \n",
      " 2   mirror          1331699 non-null  bool   \n",
      " 3   ladder          1331699 non-null  object \n",
      " 4   patch           1331699 non-null  int64  \n",
      " 5   average_rating  1287122 non-null  float64\n",
      " 6   map             1331699 non-null  object \n",
      " 7   map_size        1331699 non-null  object \n",
      " 8   num_players     1331699 non-null  int64  \n",
      " 9   server          1331699 non-null  object \n",
      " 10  duration        1331699 non-null  object \n",
      "dtypes: bool(1), float64(1), int64(3), object(6)\n",
      "memory usage: 102.9+ MB\n"
     ]
    },
    {
     "data": {
      "text/plain": "None"
     },
     "metadata": {},
     "output_type": "display_data"
    },
    {
     "data": {
      "text/plain": "              token  winning_team  mirror   ladder  patch  average_rating  \\\n0  HEVMmsI8GDCKKR2W             2   False   RM_1v1  35584          1180.0   \n1  8a93d8306c758c0e             2   False   RM_1v1  36906          1671.0   \n2  1M1GiBrNTyfDdYpp             1   False  RM_TEAM  35584          1144.0   \n3  WqaPjpZ5YJsoF48B             1   False   RM_1v1  35584           943.0   \n4  sOZrU57m89qr0159             1   False   RM_1v1  35584          1046.0   \n\n             map map_size  num_players       server duration  \n0        hideout     tiny            2       ukwest  0:06:30  \n1          nomad     tiny            2      westus2  0:03:39  \n2     golden_pit   medium            4  brazilsouth  0:51:20  \n3     golden_pit     tiny            2       eastus  0:37:14  \n4  mediterranean     tiny            2       ukwest  0:36:49  ",
      "text/html": "<div>\n<style scoped>\n    .dataframe tbody tr th:only-of-type {\n        vertical-align: middle;\n    }\n\n    .dataframe tbody tr th {\n        vertical-align: top;\n    }\n\n    .dataframe thead th {\n        text-align: right;\n    }\n</style>\n<table border=\"1\" class=\"dataframe\">\n  <thead>\n    <tr style=\"text-align: right;\">\n      <th></th>\n      <th>token</th>\n      <th>winning_team</th>\n      <th>mirror</th>\n      <th>ladder</th>\n      <th>patch</th>\n      <th>average_rating</th>\n      <th>map</th>\n      <th>map_size</th>\n      <th>num_players</th>\n      <th>server</th>\n      <th>duration</th>\n    </tr>\n  </thead>\n  <tbody>\n    <tr>\n      <th>0</th>\n      <td>HEVMmsI8GDCKKR2W</td>\n      <td>2</td>\n      <td>False</td>\n      <td>RM_1v1</td>\n      <td>35584</td>\n      <td>1180.0</td>\n      <td>hideout</td>\n      <td>tiny</td>\n      <td>2</td>\n      <td>ukwest</td>\n      <td>0:06:30</td>\n    </tr>\n    <tr>\n      <th>1</th>\n      <td>8a93d8306c758c0e</td>\n      <td>2</td>\n      <td>False</td>\n      <td>RM_1v1</td>\n      <td>36906</td>\n      <td>1671.0</td>\n      <td>nomad</td>\n      <td>tiny</td>\n      <td>2</td>\n      <td>westus2</td>\n      <td>0:03:39</td>\n    </tr>\n    <tr>\n      <th>2</th>\n      <td>1M1GiBrNTyfDdYpp</td>\n      <td>1</td>\n      <td>False</td>\n      <td>RM_TEAM</td>\n      <td>35584</td>\n      <td>1144.0</td>\n      <td>golden_pit</td>\n      <td>medium</td>\n      <td>4</td>\n      <td>brazilsouth</td>\n      <td>0:51:20</td>\n    </tr>\n    <tr>\n      <th>3</th>\n      <td>WqaPjpZ5YJsoF48B</td>\n      <td>1</td>\n      <td>False</td>\n      <td>RM_1v1</td>\n      <td>35584</td>\n      <td>943.0</td>\n      <td>golden_pit</td>\n      <td>tiny</td>\n      <td>2</td>\n      <td>eastus</td>\n      <td>0:37:14</td>\n    </tr>\n    <tr>\n      <th>4</th>\n      <td>sOZrU57m89qr0159</td>\n      <td>1</td>\n      <td>False</td>\n      <td>RM_1v1</td>\n      <td>35584</td>\n      <td>1046.0</td>\n      <td>mediterranean</td>\n      <td>tiny</td>\n      <td>2</td>\n      <td>ukwest</td>\n      <td>0:36:49</td>\n    </tr>\n  </tbody>\n</table>\n</div>"
     },
     "execution_count": 9,
     "metadata": {},
     "output_type": "execute_result"
    }
   ],
   "source": [
    "# look at matches\n",
    "display(matches.info())\n",
    "matches.head()"
   ],
   "metadata": {
    "collapsed": false,
    "pycharm": {
     "name": "#%%\n"
    }
   }
  },
  {
   "cell_type": "markdown",
   "source": [
    "# What can we ask about matches?\n",
    "- most popular maps\n",
    "-- likely arabia (open) and arena (closed)\n",
    "- most popular game type (ladder)\n",
    "- what civs win most?\n",
    "-- civ win rate vs other civs\n",
    "-- civ win rate in map (arabia vs arena)\n",
    "- what type of civ is better (infantry, cavalry, archer)\n",
    "-- need to label civs by type manually\n",
    "- in mirror matches, does the higher rated player win more often ? (probably). but we don't seem to have player rating here, just average rating\n",
    "- where do people play most? (not really true as match server might not be where players are located)\n",
    "\n",
    "# How do we subdivide data?\n",
    "- by game version (patch)\n",
    "- by game type (ladder)\n",
    "- by player avg rating buckets\n",
    "- by 1v1 games vs team games vs others (free for all)\n",
    "- by region (server)\n",
    "- by map type (closed maps vs open maps) - will have to manually label the maps as open/closed\n",
    "- by patch\n",
    "\n",
    "# What data might need to be cleaned?\n",
    "- short duration games (someone quit) and long duration games (someone was afk)\n",
    "- check null values"
   ],
   "metadata": {
    "collapsed": false,
    "pycharm": {
     "name": "#%% md\n"
    }
   }
  },
  {
   "cell_type": "code",
   "execution_count": 10,
   "outputs": [
    {
     "name": "stdout",
     "output_type": "stream",
     "text": [
      "<class 'pandas.core.frame.DataFrame'>\n",
      "RangeIndex: 4075552 entries, 0 to 4075551\n",
      "Data columns (total 7 columns):\n",
      " #   Column  Dtype  \n",
      "---  ------  -----  \n",
      " 0   token   object \n",
      " 1   match   object \n",
      " 2   rating  float64\n",
      " 3   color   object \n",
      " 4   civ     object \n",
      " 5   team    int64  \n",
      " 6   winner  bool   \n",
      "dtypes: bool(1), float64(1), int64(1), object(4)\n",
      "memory usage: 190.5+ MB\n"
     ]
    },
    {
     "data": {
      "text/plain": "None"
     },
     "metadata": {},
     "output_type": "display_data"
    },
    {
     "data": {
      "text/plain": "              token             match  rating   color          civ  team  \\\n0  V2X8UjSoLUliuaqg  e2ef0bbea3378df2  1295.0  Purple        Goths     1   \n1  pafasA6Xv704IbMw  4a7b1a48021eb7b5  1549.0    Blue      Berbers     2   \n2  anI0CXCPML0E8UNB  c0582c309489f1de     NaN    Cyan  Lithuanians     2   \n3  BZW0KSg7oZ4Nmoa6  d1f34eed030ca372  1183.0     Red       Mayans     1   \n4  QAX39y010pa9q2Q6  346f298b1ced01fb  1326.0    Blue      Koreans     2   \n\n   winner  \n0   False  \n1   False  \n2   False  \n3   False  \n4    True  ",
      "text/html": "<div>\n<style scoped>\n    .dataframe tbody tr th:only-of-type {\n        vertical-align: middle;\n    }\n\n    .dataframe tbody tr th {\n        vertical-align: top;\n    }\n\n    .dataframe thead th {\n        text-align: right;\n    }\n</style>\n<table border=\"1\" class=\"dataframe\">\n  <thead>\n    <tr style=\"text-align: right;\">\n      <th></th>\n      <th>token</th>\n      <th>match</th>\n      <th>rating</th>\n      <th>color</th>\n      <th>civ</th>\n      <th>team</th>\n      <th>winner</th>\n    </tr>\n  </thead>\n  <tbody>\n    <tr>\n      <th>0</th>\n      <td>V2X8UjSoLUliuaqg</td>\n      <td>e2ef0bbea3378df2</td>\n      <td>1295.0</td>\n      <td>Purple</td>\n      <td>Goths</td>\n      <td>1</td>\n      <td>False</td>\n    </tr>\n    <tr>\n      <th>1</th>\n      <td>pafasA6Xv704IbMw</td>\n      <td>4a7b1a48021eb7b5</td>\n      <td>1549.0</td>\n      <td>Blue</td>\n      <td>Berbers</td>\n      <td>2</td>\n      <td>False</td>\n    </tr>\n    <tr>\n      <th>2</th>\n      <td>anI0CXCPML0E8UNB</td>\n      <td>c0582c309489f1de</td>\n      <td>NaN</td>\n      <td>Cyan</td>\n      <td>Lithuanians</td>\n      <td>2</td>\n      <td>False</td>\n    </tr>\n    <tr>\n      <th>3</th>\n      <td>BZW0KSg7oZ4Nmoa6</td>\n      <td>d1f34eed030ca372</td>\n      <td>1183.0</td>\n      <td>Red</td>\n      <td>Mayans</td>\n      <td>1</td>\n      <td>False</td>\n    </tr>\n    <tr>\n      <th>4</th>\n      <td>QAX39y010pa9q2Q6</td>\n      <td>346f298b1ced01fb</td>\n      <td>1326.0</td>\n      <td>Blue</td>\n      <td>Koreans</td>\n      <td>2</td>\n      <td>True</td>\n    </tr>\n  </tbody>\n</table>\n</div>"
     },
     "execution_count": 10,
     "metadata": {},
     "output_type": "execute_result"
    }
   ],
   "source": [
    "# look at matches\n",
    "display(players.info())\n",
    "players.head()"
   ],
   "metadata": {
    "collapsed": false,
    "pycharm": {
     "name": "#%%\n"
    }
   }
  },
  {
   "cell_type": "markdown",
   "source": [
    "# What can we ask about players?\n",
    "- not name, because data is anonymized\n",
    "- by token, we can see who won most, but that's useless perhaps\n",
    "- we could see average number of games by binned ratings\n",
    "- what color/civ picked most often (red/blue are defaults)\n",
    "\n",
    "# How do we join with matches?\n",
    "- We can use the match id and do a join on that dataframe\n",
    "\n",
    "# What do we look at once we have players and the matches they played?\n",
    "- Now we can actually look at which civs are best (highest win rate)\n",
    "-\n",
    "\n",
    "\n"
   ],
   "metadata": {
    "collapsed": false,
    "pycharm": {
     "name": "#%% md\n"
    }
   }
  },
  {
   "cell_type": "code",
   "execution_count": 7,
   "outputs": [],
   "source": [],
   "metadata": {
    "collapsed": false,
    "pycharm": {
     "name": "#%%\n"
    }
   }
  },
  {
   "cell_type": "code",
   "execution_count": null,
   "outputs": [],
   "source": [],
   "metadata": {
    "collapsed": false,
    "pycharm": {
     "name": "#%%\n"
    }
   }
  }
 ],
 "metadata": {
  "kernelspec": {
   "display_name": "Python 3",
   "language": "python",
   "name": "python3"
  },
  "language_info": {
   "codemirror_mode": {
    "name": "ipython",
    "version": 2
   },
   "file_extension": ".py",
   "mimetype": "text/x-python",
   "name": "python",
   "nbconvert_exporter": "python",
   "pygments_lexer": "ipython2",
   "version": "2.7.6"
  }
 },
 "nbformat": 4,
 "nbformat_minor": 0
}