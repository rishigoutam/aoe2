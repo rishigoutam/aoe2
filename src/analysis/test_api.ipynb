{
 "cells": [
  {
   "cell_type": "code",
   "execution_count": 17,
   "metadata": {
    "collapsed": true
   },
   "outputs": [],
   "source": [
    "# Not currently used.\n",
    "# The matches and matches_players datasets have been scraped and put on kaggle using this aoe2.net API\n",
    "# so just going to use those\n",
    "# This API could be useful to get newer data that has new aoe2 patches and new civilizations as the kaggle\n",
    "# dataset is a year old\n",
    "\n",
    "import requests\n",
    "import json"
   ]
  },
  {
   "cell_type": "markdown",
   "source": [
    "# APIs\n",
    "Full list - https://aoe2.net/#api\n",
    "Listing potentially useful APIs here\n"
   ],
   "metadata": {
    "collapsed": false,
    "pycharm": {
     "name": "#%% md\n"
    }
   }
  },
  {
   "cell_type": "code",
   "execution_count": 18,
   "outputs": [],
   "source": [
    "# Strings - gets strings used by the API\n",
    "ex_strings_response = requests.get('https://aoe2.net/api/strings?game=aoe2de&language=en')\n",
    "strings_json = ex_strings_response.json()\n"
   ],
   "metadata": {
    "collapsed": false,
    "pycharm": {
     "name": "#%%\n"
    }
   }
  },
  {
   "cell_type": "code",
   "execution_count": 19,
   "outputs": [],
   "source": [
    "# Leaderboard - gets current leaderboard\n",
    "ex_leaderboard_response = requests.get('https://aoe2.net/api/leaderboard?game=aoe2de&leaderboard_id=3&start=1&count=10')\n",
    "leaderboard_json = ex_leaderboard_response.json()"
   ],
   "metadata": {
    "collapsed": false,
    "pycharm": {
     "name": "#%%\n"
    }
   }
  },
  {
   "cell_type": "code",
   "execution_count": 27,
   "outputs": [],
   "source": [
    "# Player rating history\n",
    "# can get steam_id from leaderboard or elsewhere. we can use this api to get info on player over time\n",
    "ex_player_rating_response =  requests.get('https://aoe2.net/api/player/ratinghistory?game=aoe2de&leaderboard_id=3&steam_id=76561199003184910&count=10000')\n",
    "player_rating_json = ex_player_rating_response.json()\n"
   ],
   "metadata": {
    "collapsed": false,
    "pycharm": {
     "name": "#%%\n"
    }
   }
  },
  {
   "cell_type": "code",
   "execution_count": 21,
   "outputs": [],
   "source": [
    "# Match\n",
    "ex_match_response =  requests.get('https://aoe2.net/api/match?uuid=66ec2575-5ee4-d241-a1fc-d7ffeffb48b6')\n",
    "match_json = ex_match_response.json()\n"
   ],
   "metadata": {
    "collapsed": false,
    "pycharm": {
     "name": "#%%\n"
    }
   }
  },
  {
   "cell_type": "code",
   "execution_count": 38,
   "outputs": [
    {
     "name": "stdout",
     "output_type": "stream",
     "text": [
      "{\n",
      "    \"match_id\": \"32435312\",\n",
      "    \"lobby_id\": null,\n",
      "    \"match_uuid\": \"66ec2575-5ee4-d241-a1fc-d7ffeffb48b6\",\n",
      "    \"version\": \"39515\",\n",
      "    \"name\": \"AUTOMATCH\",\n",
      "    \"num_players\": 8,\n",
      "    \"num_slots\": 8,\n",
      "    \"average_rating\": null,\n",
      "    \"cheats\": false,\n",
      "    \"full_tech_tree\": false,\n",
      "    \"ending_age\": 5,\n",
      "    \"expansion\": null,\n",
      "    \"game_type\": 0,\n",
      "    \"has_custom_content\": null,\n",
      "    \"has_password\": true,\n",
      "    \"lock_speed\": true,\n",
      "    \"lock_teams\": true,\n",
      "    \"map_size\": 4,\n",
      "    \"map_type\": 9,\n",
      "    \"pop\": 200,\n",
      "    \"ranked\": true,\n",
      "    \"leaderboard_id\": 4,\n",
      "    \"rating_type\": 4,\n",
      "    \"resources\": 0,\n",
      "    \"rms\": null,\n",
      "    \"scenario\": null,\n",
      "    \"server\": \"southeastasia\",\n",
      "    \"shared_exploration\": false,\n",
      "    \"speed\": 2,\n",
      "    \"starting_age\": 0,\n",
      "    \"team_together\": true,\n",
      "    \"team_positions\": true,\n",
      "    \"treaty_length\": 0,\n",
      "    \"turbo\": false,\n",
      "    \"victory\": 1,\n",
      "    \"victory_time\": 0,\n",
      "    \"visibility\": 0,\n",
      "    \"opened\": 1596348021,\n",
      "    \"started\": 1596348021,\n",
      "    \"finished\": 1596349447,\n",
      "    \"players\": [\n",
      "        {\n",
      "            \"profile_id\": 2972505,\n",
      "            \"steam_id\": \"76561199003998451\",\n",
      "            \"name\": \"\\u65cb\\u5f8b\",\n",
      "            \"clan\": null,\n",
      "            \"country\": null,\n",
      "            \"slot\": 1,\n",
      "            \"slot_type\": 1,\n",
      "            \"rating\": 2380,\n",
      "            \"rating_change\": null,\n",
      "            \"games\": null,\n",
      "            \"wins\": null,\n",
      "            \"streak\": null,\n",
      "            \"drops\": null,\n",
      "            \"color\": 6,\n",
      "            \"team\": 1,\n",
      "            \"civ\": 2,\n",
      "            \"civ_alpha\": 10,\n",
      "            \"won\": true\n",
      "        },\n",
      "        {\n",
      "            \"profile_id\": 312938,\n",
      "            \"steam_id\": \"76561198272641645\",\n",
      "            \"name\": \"BacT\",\n",
      "            \"clan\": null,\n",
      "            \"country\": null,\n",
      "            \"slot\": 2,\n",
      "            \"slot_type\": 1,\n",
      "            \"rating\": 2469,\n",
      "            \"rating_change\": null,\n",
      "            \"games\": null,\n",
      "            \"wins\": null,\n",
      "            \"streak\": null,\n",
      "            \"drops\": null,\n",
      "            \"color\": 3,\n",
      "            \"team\": 2,\n",
      "            \"civ\": 11,\n",
      "            \"civ_alpha\": 34,\n",
      "            \"won\": false\n",
      "        },\n",
      "        {\n",
      "            \"profile_id\": 290430,\n",
      "            \"steam_id\": \"76561198840722317\",\n",
      "            \"name\": \"Iceeeee\",\n",
      "            \"clan\": null,\n",
      "            \"country\": null,\n",
      "            \"slot\": 3,\n",
      "            \"slot_type\": 1,\n",
      "            \"rating\": 2478,\n",
      "            \"rating_change\": null,\n",
      "            \"games\": null,\n",
      "            \"wins\": null,\n",
      "            \"streak\": null,\n",
      "            \"drops\": null,\n",
      "            \"color\": 4,\n",
      "            \"team\": 1,\n",
      "            \"civ\": 35,\n",
      "            \"civ_alpha\": 19,\n",
      "            \"won\": true\n",
      "        },\n",
      "        {\n",
      "            \"profile_id\": 459658,\n",
      "            \"steam_id\": \"76561199003184910\",\n",
      "            \"name\": \"HOANG\",\n",
      "            \"clan\": null,\n",
      "            \"country\": null,\n",
      "            \"slot\": 4,\n",
      "            \"slot_type\": 1,\n",
      "            \"rating\": 2187,\n",
      "            \"rating_change\": null,\n",
      "            \"games\": null,\n",
      "            \"wins\": null,\n",
      "            \"streak\": null,\n",
      "            \"drops\": null,\n",
      "            \"color\": 5,\n",
      "            \"team\": 2,\n",
      "            \"civ\": 27,\n",
      "            \"civ_alpha\": 1,\n",
      "            \"won\": false\n",
      "        },\n",
      "        {\n",
      "            \"profile_id\": 209963,\n",
      "            \"steam_id\": \"76561198435766127\",\n",
      "            \"name\": \"zxcbbzxc\",\n",
      "            \"clan\": null,\n",
      "            \"country\": null,\n",
      "            \"slot\": 5,\n",
      "            \"slot_type\": 1,\n",
      "            \"rating\": 2271,\n",
      "            \"rating_change\": null,\n",
      "            \"games\": null,\n",
      "            \"wins\": null,\n",
      "            \"streak\": null,\n",
      "            \"drops\": null,\n",
      "            \"color\": 2,\n",
      "            \"team\": 1,\n",
      "            \"civ\": 25,\n",
      "            \"civ_alpha\": 9,\n",
      "            \"won\": true\n",
      "        },\n",
      "        {\n",
      "            \"profile_id\": 1668186,\n",
      "            \"steam_id\": \"76561198397772746\",\n",
      "            \"name\": \"News_\",\n",
      "            \"clan\": null,\n",
      "            \"country\": null,\n",
      "            \"slot\": 6,\n",
      "            \"slot_type\": 1,\n",
      "            \"rating\": 2423,\n",
      "            \"rating_change\": null,\n",
      "            \"games\": null,\n",
      "            \"wins\": null,\n",
      "            \"streak\": null,\n",
      "            \"drops\": null,\n",
      "            \"color\": 1,\n",
      "            \"team\": 2,\n",
      "            \"civ\": 9,\n",
      "            \"civ_alpha\": 27,\n",
      "            \"won\": false\n",
      "        },\n",
      "        {\n",
      "            \"profile_id\": 719506,\n",
      "            \"steam_id\": \"76561198388634981\",\n",
      "            \"name\": \"iceglace\",\n",
      "            \"clan\": null,\n",
      "            \"country\": null,\n",
      "            \"slot\": 7,\n",
      "            \"slot_type\": 1,\n",
      "            \"rating\": 2370,\n",
      "            \"rating_change\": null,\n",
      "            \"games\": null,\n",
      "            \"wins\": null,\n",
      "            \"streak\": null,\n",
      "            \"drops\": null,\n",
      "            \"color\": 8,\n",
      "            \"team\": 1,\n",
      "            \"civ\": 1,\n",
      "            \"civ_alpha\": 2,\n",
      "            \"won\": true\n",
      "        },\n",
      "        {\n",
      "            \"profile_id\": 2086210,\n",
      "            \"steam_id\": \"76561198302833048\",\n",
      "            \"name\": \"Lupakachi\",\n",
      "            \"clan\": null,\n",
      "            \"country\": null,\n",
      "            \"slot\": 8,\n",
      "            \"slot_type\": 1,\n",
      "            \"rating\": 2494,\n",
      "            \"rating_change\": null,\n",
      "            \"games\": null,\n",
      "            \"wins\": null,\n",
      "            \"streak\": null,\n",
      "            \"drops\": null,\n",
      "            \"color\": 7,\n",
      "            \"team\": 2,\n",
      "            \"civ\": 1,\n",
      "            \"civ_alpha\": 2,\n",
      "            \"won\": false\n",
      "        }\n",
      "    ]\n",
      "}\n"
     ]
    },
    {
     "data": {
      "text/plain": "dict_keys(['match_id', 'lobby_id', 'match_uuid', 'version', 'name', 'num_players', 'num_slots', 'average_rating', 'cheats', 'full_tech_tree', 'ending_age', 'expansion', 'game_type', 'has_custom_content', 'has_password', 'lock_speed', 'lock_teams', 'map_size', 'map_type', 'pop', 'ranked', 'leaderboard_id', 'rating_type', 'resources', 'rms', 'scenario', 'server', 'shared_exploration', 'speed', 'starting_age', 'team_together', 'team_positions', 'treaty_length', 'turbo', 'victory', 'victory_time', 'visibility', 'opened', 'started', 'finished', 'players'])"
     },
     "execution_count": 38,
     "metadata": {},
     "output_type": "execute_result"
    }
   ],
   "source": [
    "print(json.dumps(match_json, indent=4))\n",
    "# if we want to filter to only some keys we want:\n",
    "# dict_you_want = { your_key: old_dict[your_key] for your_key in your_keys }\n",
    "# https://stackoverflow.com/questions/3420122/filter-dict-to-contain-only-certain-keys\n",
    "match_json.keys()"
   ],
   "metadata": {
    "collapsed": false,
    "pycharm": {
     "name": "#%%\n"
    }
   }
  },
  {
   "cell_type": "markdown",
   "source": [
    "# What info do we have from leaderboard API?\n",
    "## Leaderboard\n",
    "- top fifty players\n",
    "- type of leaderboard (1v1 or something else)\n",
    "## Player Info:\n",
    "- rating (ELO) and highest every rating\n",
    "- steam_id -> we can query the steam api to get the player name\n",
    "- name - never mind we have the name\n",
    "- country\n",
    "- clan\n",
    "- number of games played, wins and losses\n",
    "- less useful info: match id\n",
    "\n",
    "# What can we ask about players?\n",
    "- what clan is the best\n",
    "- where are the best players from (country)?\n",
    "- how much do they play (number of games). not sure if this is per <time> or ever"
   ],
   "metadata": {
    "collapsed": false,
    "pycharm": {
     "name": "#%% md\n"
    }
   }
  },
  {
   "cell_type": "code",
   "execution_count": null,
   "outputs": [],
   "source": [],
   "metadata": {
    "collapsed": false,
    "pycharm": {
     "name": "#%%\n"
    }
   }
  }
 ],
 "metadata": {
  "kernelspec": {
   "display_name": "Python 3",
   "language": "python",
   "name": "python3"
  },
  "language_info": {
   "codemirror_mode": {
    "name": "ipython",
    "version": 2
   },
   "file_extension": ".py",
   "mimetype": "text/x-python",
   "name": "python",
   "nbconvert_exporter": "python",
   "pygments_lexer": "ipython2",
   "version": "2.7.6"
  }
 },
 "nbformat": 4,
 "nbformat_minor": 0
}