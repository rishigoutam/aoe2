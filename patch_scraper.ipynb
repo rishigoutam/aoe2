{
 "cells": [
  {
   "cell_type": "markdown",
   "metadata": {
    "collapsed": true,
    "pycharm": {
     "name": "#%% md\n"
    }
   },
   "source": [
    "# Patches\n",
    "Age of Empires has patches that consist of balance changes, bug fixes, new civ additions, etc. Here, we attempt to scrape patch information.\n",
    "\n",
    "Unfortunately, looks like steamdb.info looks for JS to be enabled. So instead of scraping a live site, we will download the html locally and scrape that instead to get patch information"
   ]
  },
  {
   "cell_type": "code",
   "execution_count": 99,
   "outputs": [],
   "source": [
    "from bs4 import BeautifulSoup as Soup\n",
    "\n",
    "# Locally download the below websites:\n",
    "# de_steam_id = 813780\n",
    "# hd_steam_id = 221380\n",
    "# de_patch_url = f'https://steamdb.info/app/{de_steam_id}/patchnotes/'\n",
    "# hd_patch_url = f'https://steamdb.info/app/{hd_steam_id}/patchnotes/'"
   ],
   "metadata": {
    "collapsed": false,
    "pycharm": {
     "name": "#%%\n"
    }
   }
  },
  {
   "cell_type": "code",
   "execution_count": 100,
   "outputs": [],
   "source": [
    "with open('de_patches.html', 'r') as de:\n",
    "    de_patches = Soup(de, 'html.parser')\n",
    "with open('hd_patches.html', 'r') as hd:\n",
    "    hd_patches = Soup(hd, 'html.parser')\n",
    "\n"
   ],
   "metadata": {
    "collapsed": false,
    "pycharm": {
     "name": "#%%\n"
    }
   }
  },
  {
   "cell_type": "code",
   "execution_count": 101,
   "outputs": [],
   "source": [
    "def get_patches(soup: Soup, game_name:str)->list:\n",
    "    \"\"\"\n",
    "    Gets the patch notes for a game as a list\n",
    "    :param game_name: `de` or `hd` for the version of age of empires (DE or HD)\n",
    "    :param soup: the BeautifulSoup object for the steamdb.info game website at 'https://steamdb.info/app/{game_steam_id}/patchnotes/'\n",
    "    :return: list of patches made to the game\n",
    "    \"\"\"\n",
    "    from datetime import datetime\n",
    "\n",
    "    patches = []\n",
    "    table = soup.find('tbody', attrs={'id':'js-builds'})\n",
    "    for tr in table.find_all('tr'):\n",
    "        td_list = tr.find_all('td')\n",
    "        date = datetime.strptime(td_list[0].find('a').string, '%d %B %Y')\n",
    "        title = td_list[3].find('a').string\n",
    "        has_patch_notes = td_list[5].string is None\n",
    "        build_id = td_list[6].string\n",
    "        patches.append([game_name, date, title, has_patch_notes, build_id])\n",
    "    return patches\n",
    "\n"
   ],
   "metadata": {
    "collapsed": false,
    "pycharm": {
     "name": "#%%\n"
    }
   }
  },
  {
   "cell_type": "code",
   "execution_count": 103,
   "outputs": [],
   "source": [
    "import csv\n",
    "with open('hd_de_patches.csv', 'w') as f:\n",
    "    writer = csv.writer(f)\n",
    "    writer.writerow(['Game', 'DateTime', 'Title', 'Has Patch Notes', 'Build ID'])\n",
    "    writer.writerows(get_patches(hd_patches, 'hd'))\n",
    "    writer.writerows(get_patches(de_patches, 'de'))\n"
   ],
   "metadata": {
    "collapsed": false,
    "pycharm": {
     "name": "#%%\n"
    }
   }
  },
  {
   "cell_type": "code",
   "execution_count": null,
   "outputs": [],
   "source": [
    "!cat hd_de_patches.csv"
   ],
   "metadata": {
    "collapsed": false,
    "pycharm": {
     "name": "#%%\n",
     "is_executing": true
    }
   }
  },
  {
   "cell_type": "code",
   "execution_count": null,
   "outputs": [],
   "source": [],
   "metadata": {
    "collapsed": false,
    "pycharm": {
     "name": "#%%\n"
    }
   }
  }
 ],
 "metadata": {
  "kernelspec": {
   "display_name": "Python 3",
   "language": "python",
   "name": "python3"
  },
  "language_info": {
   "codemirror_mode": {
    "name": "ipython",
    "version": 2
   },
   "file_extension": ".py",
   "mimetype": "text/x-python",
   "name": "python",
   "nbconvert_exporter": "python",
   "pygments_lexer": "ipython2",
   "version": "2.7.6"
  }
 },
 "nbformat": 4,
 "nbformat_minor": 0
}